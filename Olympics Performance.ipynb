{
 "cells": [
  {
   "cell_type": "markdown",
   "metadata": {},
   "source": [
    "# Olympics Performance Analysis"
   ]
  },
  {
   "cell_type": "markdown",
   "metadata": {},
   "source": [
    "### Data Science Framework \n",
    "__1. Problem Definition:__ It is extremely essential to understand the problem at hand, the scope and the solution required. Problems before requirements, requirements before solutions, solutions before design, and design before technology. <br>\n",
    "<br> __2. Data Gathering:__ The first stage of any analysis it to gather the required dataset needed to solve the problem at hand. <br>\n",
    "<br> __3. Data Wrangling & Preparation:__ It is only in ideal situations that the required dataset is clean, complete and ready for analysis. To ensure accurate results, the data gathered needs to be prepared; ETL and data cleaning to identify discrepancies (missing values, incorrect values, data formats, outliers) <br>\n",
    "<br> __4. Exploration Data Analysis (EDA):__ Garbage in = Garbage out. Thus, it is important to deploy descriptive and graphical statistics to look for potential problems, patterns, classifications, correlations and comparisons in the dataset. <br>\n",
    "<br> __5. Data Solutions:__ Given the problem, the right data solution needs to be implemented. This can be anywhere from analytical outputs, visualizations, data modeling. \n"
   ]
  },
  {
   "cell_type": "markdown",
   "metadata": {},
   "source": [
    "### Problem Definition:\n",
    "Given the Olympic Games Historical Dataset, analyze and report the correct information for the following questions: <br>\n",
    "1. Find the five athletes who won the most gold medals in Athletics <br>\n",
    "2. Find the five athletes who won gold medals in the largest number of different athletic events <br>\n",
    "3. If the olympics committee found guilty of doping the first and the third of the five athletes from question2, create a new medals.csv dataset with redistributed medals after the gold medals of those two athletes are removed. Who then are the top five that won gold medals in the largest number of different athletic events?"
   ]
  },
  {
   "cell_type": "markdown",
   "metadata": {},
   "source": [
    "### Data Gathering:\n",
    "For this project, the raw dataset \"medals.csv\" has been provided. So, no further data gathering needs to be done in order to proceed. Given the problem definition, this dataset contains all the relevant information needed."
   ]
  },
  {
   "cell_type": "markdown",
   "metadata": {},
   "source": [
    "### Data Wrangling & Preparation:\n",
    "Given the \"medals.csv\" dataset, data wrangling is out of scope. Thus, the only action needed in this step is to load the dataset into a dataframe and prepare it for analysis "
   ]
  },
  {
   "cell_type": "code",
   "execution_count": 1,
   "metadata": {
    "ExecuteTime": {
     "end_time": "2021-02-19T13:15:52.745425Z",
     "start_time": "2021-02-19T13:15:50.331920Z"
    }
   },
   "outputs": [],
   "source": [
    "#importing all relevant libraries\n",
    "\n",
    "import pandas as pd\n",
    "import numpy as np\n",
    "import warnings\n",
    "warnings.filterwarnings('ignore')\n",
    "\n",
    "#for visualizations\n",
    "import matplotlib.pyplot as plt\n",
    "%matplotlib inline\n",
    "import seaborn as sns\n"
   ]
  },
  {
   "cell_type": "code",
   "execution_count": 2,
   "metadata": {
    "ExecuteTime": {
     "end_time": "2021-02-19T13:15:52.826421Z",
     "start_time": "2021-02-19T13:15:52.748396Z"
    }
   },
   "outputs": [],
   "source": [
    "#loading the required dataset \"medals.csv\"\n",
    "\n",
    "data = open(\"medals.csv\")\n",
    "data1 = data.read().replace(\", \", \" \")\n",
    "data2 = data1.replace('\"', '')\n",
    "df = pd.DataFrame([x.split(',') for x in data2.split('\\n')[1:]], columns=[x for x in data2.split('\\n')[0].split(',')])\n",
    "data.close()\n"
   ]
  },
  {
   "cell_type": "markdown",
   "metadata": {},
   "source": [
    "__Note:__ This particular method was chosen as a few problems were encountered in loading the dataset into a pandas dataframe. The \"medals.csv\" file was encoded with utf-8-BOM, the newline character (\") also existed within the row values that led to uninteneded row splitting and finally, the delimiter (,) was also present within row values. So, the best (and fastest, though not the prettiest) method was to read the file, replace newline character and the inconsistent delimiter, and load the text into a pandas dataframe. This is a problem that I haven't encountered before, so given feedback on what is the most efficient method, I will incoporate it into my workflow. "
   ]
  },
  {
   "cell_type": "markdown",
   "metadata": {},
   "source": [
    "Time to explore the dataset; understand the dataset, explore null values, fix the dtypes of the different columns and remove the null rows (if any)"
   ]
  },
  {
   "cell_type": "code",
   "execution_count": 3,
   "metadata": {
    "ExecuteTime": {
     "end_time": "2021-02-19T13:15:52.875399Z",
     "start_time": "2021-02-19T13:15:52.829393Z"
    }
   },
   "outputs": [
    {
     "data": {
      "text/html": [
       "<div>\n",
       "<style scoped>\n",
       "    .dataframe tbody tr th:only-of-type {\n",
       "        vertical-align: middle;\n",
       "    }\n",
       "\n",
       "    .dataframe tbody tr th {\n",
       "        vertical-align: top;\n",
       "    }\n",
       "\n",
       "    .dataframe thead th {\n",
       "        text-align: right;\n",
       "    }\n",
       "</style>\n",
       "<table border=\"1\" class=\"dataframe\">\n",
       "  <thead>\n",
       "    <tr style=\"text-align: right;\">\n",
       "      <th></th>\n",
       "      <th>ï»¿Games</th>\n",
       "      <th>Year</th>\n",
       "      <th>Sport</th>\n",
       "      <th>Discipline</th>\n",
       "      <th>Athlete</th>\n",
       "      <th>Team</th>\n",
       "      <th>Gender</th>\n",
       "      <th>Event</th>\n",
       "      <th>Medal</th>\n",
       "      <th>Gold</th>\n",
       "      <th>Silver</th>\n",
       "      <th>Bronze</th>\n",
       "    </tr>\n",
       "  </thead>\n",
       "  <tbody>\n",
       "    <tr>\n",
       "      <th>0</th>\n",
       "      <td>Athens (1896)</td>\n",
       "      <td>1896</td>\n",
       "      <td>Aquatics</td>\n",
       "      <td>Swimming</td>\n",
       "      <td>alfred hajos</td>\n",
       "      <td>HUN</td>\n",
       "      <td>Men</td>\n",
       "      <td>100m freestyle men</td>\n",
       "      <td>Gold</td>\n",
       "      <td>1</td>\n",
       "      <td>0</td>\n",
       "      <td>0</td>\n",
       "    </tr>\n",
       "    <tr>\n",
       "      <th>1</th>\n",
       "      <td>Athens (1896)</td>\n",
       "      <td>1896</td>\n",
       "      <td>Aquatics</td>\n",
       "      <td>Swimming</td>\n",
       "      <td>Otto Herschmann</td>\n",
       "      <td>AUT</td>\n",
       "      <td>Men</td>\n",
       "      <td>100m freestyle men</td>\n",
       "      <td>Silver</td>\n",
       "      <td>0</td>\n",
       "      <td>1</td>\n",
       "      <td>0</td>\n",
       "    </tr>\n",
       "    <tr>\n",
       "      <th>2</th>\n",
       "      <td>Athens (1896)</td>\n",
       "      <td>1896</td>\n",
       "      <td>Aquatics</td>\n",
       "      <td>Swimming</td>\n",
       "      <td>dimitrios drivas</td>\n",
       "      <td>GRE</td>\n",
       "      <td>Men</td>\n",
       "      <td>100m freestyle for sailors men</td>\n",
       "      <td>Bronze</td>\n",
       "      <td>0</td>\n",
       "      <td>0</td>\n",
       "      <td>1</td>\n",
       "    </tr>\n",
       "  </tbody>\n",
       "</table>\n",
       "</div>"
      ],
      "text/plain": [
       "        ï»¿Games  Year     Sport Discipline           Athlete Team Gender  \\\n",
       "0  Athens (1896)  1896  Aquatics   Swimming      alfred hajos  HUN    Men   \n",
       "1  Athens (1896)  1896  Aquatics   Swimming   Otto Herschmann  AUT    Men   \n",
       "2  Athens (1896)  1896  Aquatics   Swimming  dimitrios drivas  GRE    Men   \n",
       "\n",
       "                            Event   Medal Gold Silver Bronze  \n",
       "0              100m freestyle men    Gold    1      0      0  \n",
       "1              100m freestyle men  Silver    0      1      0  \n",
       "2  100m freestyle for sailors men  Bronze    0      0      1  "
      ]
     },
     "execution_count": 3,
     "metadata": {},
     "output_type": "execute_result"
    }
   ],
   "source": [
    "df.head(n=3)\n",
    "#I see a problem in the Games column name, that's because of the utf-8-bom encoding. "
   ]
  },
  {
   "cell_type": "code",
   "execution_count": 4,
   "metadata": {
    "ExecuteTime": {
     "end_time": "2021-02-19T13:15:52.915394Z",
     "start_time": "2021-02-19T13:15:52.879396Z"
    }
   },
   "outputs": [
    {
     "name": "stdout",
     "output_type": "stream",
     "text": [
      "<class 'pandas.core.frame.DataFrame'>\n",
      "RangeIndex: 10999 entries, 0 to 10998\n",
      "Data columns (total 12 columns):\n",
      "ï»¿Games      10999 non-null object\n",
      "Year          10999 non-null object\n",
      "Sport         10999 non-null object\n",
      "Discipline    10999 non-null object\n",
      "Athlete       10999 non-null object\n",
      "Team          10999 non-null object\n",
      "Gender        10999 non-null object\n",
      "Event         10999 non-null object\n",
      "Medal         10998 non-null object\n",
      "Gold          10998 non-null object\n",
      "Silver        10998 non-null object\n",
      "Bronze        10998 non-null object\n",
      "dtypes: object(12)\n",
      "memory usage: 1.0+ MB\n"
     ]
    }
   ],
   "source": [
    "df.info()\n",
    "#The medal columns have null values."
   ]
  },
  {
   "cell_type": "code",
   "execution_count": 5,
   "metadata": {
    "ExecuteTime": {
     "end_time": "2021-02-19T13:15:52.936397Z",
     "start_time": "2021-02-19T13:15:52.919396Z"
    }
   },
   "outputs": [
    {
     "data": {
      "text/plain": [
       "ï»¿Games      object\n",
       "Year          object\n",
       "Sport         object\n",
       "Discipline    object\n",
       "Athlete       object\n",
       "Team          object\n",
       "Gender        object\n",
       "Event         object\n",
       "Medal         object\n",
       "Gold          object\n",
       "Silver        object\n",
       "Bronze        object\n",
       "dtype: object"
      ]
     },
     "execution_count": 5,
     "metadata": {},
     "output_type": "execute_result"
    }
   ],
   "source": [
    "df.dtypes \n",
    "#everything is defined as an object. We need the Gold, Silver and Bronze, Year to be int "
   ]
  },
  {
   "cell_type": "code",
   "execution_count": 6,
   "metadata": {
    "ExecuteTime": {
     "end_time": "2021-02-19T13:15:52.995395Z",
     "start_time": "2021-02-19T13:15:52.944412Z"
    }
   },
   "outputs": [
    {
     "data": {
      "text/html": [
       "<div>\n",
       "<style scoped>\n",
       "    .dataframe tbody tr th:only-of-type {\n",
       "        vertical-align: middle;\n",
       "    }\n",
       "\n",
       "    .dataframe tbody tr th {\n",
       "        vertical-align: top;\n",
       "    }\n",
       "\n",
       "    .dataframe thead th {\n",
       "        text-align: right;\n",
       "    }\n",
       "</style>\n",
       "<table border=\"1\" class=\"dataframe\">\n",
       "  <thead>\n",
       "    <tr style=\"text-align: right;\">\n",
       "      <th></th>\n",
       "      <th>ï»¿Games</th>\n",
       "      <th>Year</th>\n",
       "      <th>Sport</th>\n",
       "      <th>Discipline</th>\n",
       "      <th>Athlete</th>\n",
       "      <th>Team</th>\n",
       "      <th>Gender</th>\n",
       "      <th>Event</th>\n",
       "      <th>Medal</th>\n",
       "      <th>Gold</th>\n",
       "      <th>Silver</th>\n",
       "      <th>Bronze</th>\n",
       "    </tr>\n",
       "  </thead>\n",
       "  <tbody>\n",
       "    <tr>\n",
       "      <th>10998</th>\n",
       "      <td>Tokyo (1964)</td>\n",
       "      <td>1964</td>\n",
       "      <td>Boxing</td>\n",
       "      <td>Boxing</td>\n",
       "      <td>Juan Fabila mendoza</td>\n",
       "      <td>MEX</td>\n",
       "      <td>Men</td>\n",
       "      <td>51 - 54kg (banta</td>\n",
       "      <td>NaN</td>\n",
       "      <td>NaN</td>\n",
       "      <td>NaN</td>\n",
       "      <td>NaN</td>\n",
       "    </tr>\n",
       "  </tbody>\n",
       "</table>\n",
       "</div>"
      ],
      "text/plain": [
       "           ï»¿Games  Year   Sport Discipline              Athlete Team Gender  \\\n",
       "10998  Tokyo (1964)  1964  Boxing     Boxing  Juan Fabila mendoza  MEX    Men   \n",
       "\n",
       "                  Event Medal Gold Silver Bronze  \n",
       "10998  51 - 54kg (banta   NaN  NaN    NaN    NaN  "
      ]
     },
     "execution_count": 6,
     "metadata": {},
     "output_type": "execute_result"
    }
   ],
   "source": [
    "#making sure that the None values are converted to nan so that in the future they don't cause \n",
    "#issues\n",
    "df = df.fillna(value=np.nan)\n",
    "df[df.isna().any(axis=1)]\n",
    "\n",
    "#Yes, confirmed regarding null values. Will remove this row."
   ]
  },
  {
   "cell_type": "code",
   "execution_count": 7,
   "metadata": {
    "ExecuteTime": {
     "end_time": "2021-02-19T13:15:53.029429Z",
     "start_time": "2021-02-19T13:15:52.998398Z"
    }
   },
   "outputs": [],
   "source": [
    "#removing null values as they might cause problems in aggregation statistics\n",
    "df.dropna(inplace=True)\n",
    "\n",
    "#rename the Games column, so it's all neat and tidy\n",
    "df = df.rename(columns={'ï»¿Games': 'Games'})"
   ]
  },
  {
   "cell_type": "code",
   "execution_count": 8,
   "metadata": {
    "ExecuteTime": {
     "end_time": "2021-02-19T13:15:53.110503Z",
     "start_time": "2021-02-19T13:15:53.040414Z"
    }
   },
   "outputs": [],
   "source": [
    "#changing the dtype of the columns to numerical values \n",
    "df[[\"Year\", \"Gold\", \"Silver\", \"Bronze\"]] = df[[\"Year\", \"Gold\", \"Silver\", \"Bronze\"]].apply(pd.to_numeric)"
   ]
  },
  {
   "cell_type": "code",
   "execution_count": 9,
   "metadata": {
    "ExecuteTime": {
     "end_time": "2021-02-19T13:15:53.146397Z",
     "start_time": "2021-02-19T13:15:53.114403Z"
    }
   },
   "outputs": [
    {
     "name": "stdout",
     "output_type": "stream",
     "text": [
      "Max Medals per row:  1\n",
      "Min Medals per row:  1\n"
     ]
    }
   ],
   "source": [
    "#check that there isn't a row with multiple medals \n",
    "print(\"Max Medals per row: \", (df['Gold'] + df['Silver'] + df['Bronze']).max())\n",
    "#check that there isn't a row with multiple medals \n",
    "print(\"Min Medals per row: \", (df['Gold'] + df['Silver'] + df['Bronze']).min())\n",
    "\n",
    "#no empty rows either, where it's 0 instead of null. \n"
   ]
  },
  {
   "cell_type": "markdown",
   "metadata": {},
   "source": [
    "### Exploratory Data Analysis:\n",
    "Let's explore the dataset and see what we find. Going to look at descriptive statistics and distributions of different variables. Going to create visualizations to best see what the data represents"
   ]
  },
  {
   "cell_type": "code",
   "execution_count": 10,
   "metadata": {
    "ExecuteTime": {
     "end_time": "2021-02-19T13:15:53.253397Z",
     "start_time": "2021-02-19T13:15:53.149398Z"
    }
   },
   "outputs": [
    {
     "data": {
      "text/html": [
       "<div>\n",
       "<style scoped>\n",
       "    .dataframe tbody tr th:only-of-type {\n",
       "        vertical-align: middle;\n",
       "    }\n",
       "\n",
       "    .dataframe tbody tr th {\n",
       "        vertical-align: top;\n",
       "    }\n",
       "\n",
       "    .dataframe thead th {\n",
       "        text-align: right;\n",
       "    }\n",
       "</style>\n",
       "<table border=\"1\" class=\"dataframe\">\n",
       "  <thead>\n",
       "    <tr style=\"text-align: right;\">\n",
       "      <th></th>\n",
       "      <th>Games</th>\n",
       "      <th>Year</th>\n",
       "      <th>Sport</th>\n",
       "      <th>Discipline</th>\n",
       "      <th>Athlete</th>\n",
       "      <th>Team</th>\n",
       "      <th>Gender</th>\n",
       "      <th>Event</th>\n",
       "      <th>Medal</th>\n",
       "      <th>Gold</th>\n",
       "      <th>Silver</th>\n",
       "      <th>Bronze</th>\n",
       "    </tr>\n",
       "  </thead>\n",
       "  <tbody>\n",
       "    <tr>\n",
       "      <th>count</th>\n",
       "      <td>10998</td>\n",
       "      <td>10998.000000</td>\n",
       "      <td>10998</td>\n",
       "      <td>10998</td>\n",
       "      <td>10998</td>\n",
       "      <td>10998</td>\n",
       "      <td>10998</td>\n",
       "      <td>10998</td>\n",
       "      <td>10998</td>\n",
       "      <td>10998.000000</td>\n",
       "      <td>10998.000000</td>\n",
       "      <td>10998.000000</td>\n",
       "    </tr>\n",
       "    <tr>\n",
       "      <th>unique</th>\n",
       "      <td>15</td>\n",
       "      <td>NaN</td>\n",
       "      <td>34</td>\n",
       "      <td>41</td>\n",
       "      <td>8284</td>\n",
       "      <td>70</td>\n",
       "      <td>2</td>\n",
       "      <td>420</td>\n",
       "      <td>3</td>\n",
       "      <td>NaN</td>\n",
       "      <td>NaN</td>\n",
       "      <td>NaN</td>\n",
       "    </tr>\n",
       "    <tr>\n",
       "      <th>top</th>\n",
       "      <td>Antwerp (1920)</td>\n",
       "      <td>NaN</td>\n",
       "      <td>Athletics</td>\n",
       "      <td>Athletics</td>\n",
       "      <td>Edoardo Mangiarotti</td>\n",
       "      <td>USA</td>\n",
       "      <td>Men</td>\n",
       "      <td>football men</td>\n",
       "      <td>Gold</td>\n",
       "      <td>NaN</td>\n",
       "      <td>NaN</td>\n",
       "      <td>NaN</td>\n",
       "    </tr>\n",
       "    <tr>\n",
       "      <th>freq</th>\n",
       "      <td>1298</td>\n",
       "      <td>NaN</td>\n",
       "      <td>1640</td>\n",
       "      <td>1640</td>\n",
       "      <td>13</td>\n",
       "      <td>1988</td>\n",
       "      <td>9978</td>\n",
       "      <td>547</td>\n",
       "      <td>3858</td>\n",
       "      <td>NaN</td>\n",
       "      <td>NaN</td>\n",
       "      <td>NaN</td>\n",
       "    </tr>\n",
       "    <tr>\n",
       "      <th>mean</th>\n",
       "      <td>NaN</td>\n",
       "      <td>1931.376614</td>\n",
       "      <td>NaN</td>\n",
       "      <td>NaN</td>\n",
       "      <td>NaN</td>\n",
       "      <td>NaN</td>\n",
       "      <td>NaN</td>\n",
       "      <td>NaN</td>\n",
       "      <td>NaN</td>\n",
       "      <td>0.350791</td>\n",
       "      <td>0.336970</td>\n",
       "      <td>0.312239</td>\n",
       "    </tr>\n",
       "    <tr>\n",
       "      <th>std</th>\n",
       "      <td>NaN</td>\n",
       "      <td>19.698441</td>\n",
       "      <td>NaN</td>\n",
       "      <td>NaN</td>\n",
       "      <td>NaN</td>\n",
       "      <td>NaN</td>\n",
       "      <td>NaN</td>\n",
       "      <td>NaN</td>\n",
       "      <td>NaN</td>\n",
       "      <td>0.477239</td>\n",
       "      <td>0.472696</td>\n",
       "      <td>0.463428</td>\n",
       "    </tr>\n",
       "    <tr>\n",
       "      <th>min</th>\n",
       "      <td>NaN</td>\n",
       "      <td>1896.000000</td>\n",
       "      <td>NaN</td>\n",
       "      <td>NaN</td>\n",
       "      <td>NaN</td>\n",
       "      <td>NaN</td>\n",
       "      <td>NaN</td>\n",
       "      <td>NaN</td>\n",
       "      <td>NaN</td>\n",
       "      <td>0.000000</td>\n",
       "      <td>0.000000</td>\n",
       "      <td>0.000000</td>\n",
       "    </tr>\n",
       "    <tr>\n",
       "      <th>25%</th>\n",
       "      <td>NaN</td>\n",
       "      <td>1912.000000</td>\n",
       "      <td>NaN</td>\n",
       "      <td>NaN</td>\n",
       "      <td>NaN</td>\n",
       "      <td>NaN</td>\n",
       "      <td>NaN</td>\n",
       "      <td>NaN</td>\n",
       "      <td>NaN</td>\n",
       "      <td>0.000000</td>\n",
       "      <td>0.000000</td>\n",
       "      <td>0.000000</td>\n",
       "    </tr>\n",
       "    <tr>\n",
       "      <th>50%</th>\n",
       "      <td>NaN</td>\n",
       "      <td>1928.000000</td>\n",
       "      <td>NaN</td>\n",
       "      <td>NaN</td>\n",
       "      <td>NaN</td>\n",
       "      <td>NaN</td>\n",
       "      <td>NaN</td>\n",
       "      <td>NaN</td>\n",
       "      <td>NaN</td>\n",
       "      <td>0.000000</td>\n",
       "      <td>0.000000</td>\n",
       "      <td>0.000000</td>\n",
       "    </tr>\n",
       "    <tr>\n",
       "      <th>75%</th>\n",
       "      <td>NaN</td>\n",
       "      <td>1952.000000</td>\n",
       "      <td>NaN</td>\n",
       "      <td>NaN</td>\n",
       "      <td>NaN</td>\n",
       "      <td>NaN</td>\n",
       "      <td>NaN</td>\n",
       "      <td>NaN</td>\n",
       "      <td>NaN</td>\n",
       "      <td>1.000000</td>\n",
       "      <td>1.000000</td>\n",
       "      <td>1.000000</td>\n",
       "    </tr>\n",
       "    <tr>\n",
       "      <th>max</th>\n",
       "      <td>NaN</td>\n",
       "      <td>1964.000000</td>\n",
       "      <td>NaN</td>\n",
       "      <td>NaN</td>\n",
       "      <td>NaN</td>\n",
       "      <td>NaN</td>\n",
       "      <td>NaN</td>\n",
       "      <td>NaN</td>\n",
       "      <td>NaN</td>\n",
       "      <td>1.000000</td>\n",
       "      <td>1.000000</td>\n",
       "      <td>1.000000</td>\n",
       "    </tr>\n",
       "  </tbody>\n",
       "</table>\n",
       "</div>"
      ],
      "text/plain": [
       "                 Games          Year      Sport Discipline  \\\n",
       "count            10998  10998.000000      10998      10998   \n",
       "unique              15           NaN         34         41   \n",
       "top     Antwerp (1920)           NaN  Athletics  Athletics   \n",
       "freq              1298           NaN       1640       1640   \n",
       "mean               NaN   1931.376614        NaN        NaN   \n",
       "std                NaN     19.698441        NaN        NaN   \n",
       "min                NaN   1896.000000        NaN        NaN   \n",
       "25%                NaN   1912.000000        NaN        NaN   \n",
       "50%                NaN   1928.000000        NaN        NaN   \n",
       "75%                NaN   1952.000000        NaN        NaN   \n",
       "max                NaN   1964.000000        NaN        NaN   \n",
       "\n",
       "                    Athlete   Team Gender         Event  Medal          Gold  \\\n",
       "count                 10998  10998  10998         10998  10998  10998.000000   \n",
       "unique                 8284     70      2           420      3           NaN   \n",
       "top     Edoardo Mangiarotti    USA    Men  football men   Gold           NaN   \n",
       "freq                     13   1988   9978           547   3858           NaN   \n",
       "mean                    NaN    NaN    NaN           NaN    NaN      0.350791   \n",
       "std                     NaN    NaN    NaN           NaN    NaN      0.477239   \n",
       "min                     NaN    NaN    NaN           NaN    NaN      0.000000   \n",
       "25%                     NaN    NaN    NaN           NaN    NaN      0.000000   \n",
       "50%                     NaN    NaN    NaN           NaN    NaN      0.000000   \n",
       "75%                     NaN    NaN    NaN           NaN    NaN      1.000000   \n",
       "max                     NaN    NaN    NaN           NaN    NaN      1.000000   \n",
       "\n",
       "              Silver        Bronze  \n",
       "count   10998.000000  10998.000000  \n",
       "unique           NaN           NaN  \n",
       "top              NaN           NaN  \n",
       "freq             NaN           NaN  \n",
       "mean        0.336970      0.312239  \n",
       "std         0.472696      0.463428  \n",
       "min         0.000000      0.000000  \n",
       "25%         0.000000      0.000000  \n",
       "50%         0.000000      0.000000  \n",
       "75%         1.000000      1.000000  \n",
       "max         1.000000      1.000000  "
      ]
     },
     "execution_count": 10,
     "metadata": {},
     "output_type": "execute_result"
    }
   ],
   "source": [
    "#checking the descriptive statistics\n",
    "df.describe(include= 'all')"
   ]
  },
  {
   "cell_type": "code",
   "execution_count": 11,
   "metadata": {
    "ExecuteTime": {
     "end_time": "2021-02-19T13:15:53.287395Z",
     "start_time": "2021-02-19T13:15:53.258398Z"
    }
   },
   "outputs": [],
   "source": [
    "df.head(n=3)\n",
    "\n",
    "#sorting the dataset so it's organized by year, event and then gold medalist is first, \n",
    "#followed by silver and then bronze. \n",
    "df = df.sort_values(by=['Year', 'Event', 'Gold', 'Silver'], ascending =  [True, False, False, False]).reset_index(drop=True)\n"
   ]
  },
  {
   "cell_type": "code",
   "execution_count": 12,
   "metadata": {
    "ExecuteTime": {
     "end_time": "2021-02-19T13:15:53.301398Z",
     "start_time": "2021-02-19T13:15:53.290396Z"
    }
   },
   "outputs": [
    {
     "data": {
      "text/plain": [
       "Athletics            1640\n",
       "Aquatics             1264\n",
       "Gymnastics           1214\n",
       "Rowing                912\n",
       "Fencing               727\n",
       "Shooting              697\n",
       "Football              547\n",
       "Sailing               539\n",
       "Wrestling             451\n",
       "Cycling               421\n",
       "Hockey                374\n",
       "Equestrian            357\n",
       "Boxing                306\n",
       "Basketball            222\n",
       "Canoe / Kayak         198\n",
       "Rugby                 192\n",
       "Weightlifting         168\n",
       "Tennis                154\n",
       "Archery               137\n",
       "Tug of War             94\n",
       "Polo                   66\n",
       "Handball               61\n",
       "Lacrosse               59\n",
       "Modern Pentathlon      57\n",
       "Golf                   30\n",
       "Ice Hockey             27\n",
       "Skating                27\n",
       "Cricket                24\n",
       "Rackets                10\n",
       "Croquet                 8\n",
       "Water Motorsports       5\n",
       "Basque Pelota           4\n",
       "Roque                   3\n",
       "Jeu de paume            3\n",
       "Name: Sport, dtype: int64"
      ]
     },
     "execution_count": 12,
     "metadata": {},
     "output_type": "execute_result"
    }
   ],
   "source": [
    "df.Sport.value_counts()"
   ]
  },
  {
   "cell_type": "code",
   "execution_count": 13,
   "metadata": {
    "ExecuteTime": {
     "end_time": "2021-02-19T13:15:53.319395Z",
     "start_time": "2021-02-19T13:15:53.304397Z"
    }
   },
   "outputs": [
    {
     "data": {
      "text/plain": [
       "Athletics                 1640\n",
       "Artistic Gymnastics       1214\n",
       "Rowing                     912\n",
       "Swimming                   753\n",
       "Fencing                    727\n",
       "Shooting                   697\n",
       "Football                   547\n",
       "Sailing                    539\n",
       "Hockey                     374\n",
       "Water polo                 359\n",
       "Boxing                     306\n",
       "Cycling Track              289\n",
       "Wrestling Freestyle        232\n",
       "Basketball                 222\n",
       "Wrestling Greco-Romano     219\n",
       "Canoe / Kayak F            198\n",
       "Rugby                      192\n",
       "Weightlifting              168\n",
       "Tennis                     154\n",
       "Diving                     152\n",
       "Archery                    137\n",
       "Jumping                    133\n",
       "Cycling Road               132\n",
       "Eventing                   126\n",
       "Tug of War                  94\n",
       "Dressage                    84\n",
       "Polo                        66\n",
       "Handball                    61\n",
       "Lacrosse                    59\n",
       "Modern Pentathlon.          57\n",
       "Golf                        30\n",
       "Figure skating              27\n",
       "Ice Hockey                  27\n",
       "Cricket                     24\n",
       "Vaulting                    14\n",
       "Rackets                     10\n",
       "Croquet                      8\n",
       "Water Motorspor              5\n",
       "Basque Pelota                4\n",
       "Roque                        3\n",
       "Jeu de Paume                 3\n",
       "Name: Discipline, dtype: int64"
      ]
     },
     "execution_count": 13,
     "metadata": {},
     "output_type": "execute_result"
    }
   ],
   "source": [
    "df.Discipline.value_counts()"
   ]
  },
  {
   "cell_type": "code",
   "execution_count": 14,
   "metadata": {
    "ExecuteTime": {
     "end_time": "2021-02-19T13:15:54.029865Z",
     "start_time": "2021-02-19T13:15:53.322397Z"
    }
   },
   "outputs": [
    {
     "data": {
      "text/plain": [
       "Text(0.5, 1.0, 'Medals by Year')"
      ]
     },
     "execution_count": 14,
     "metadata": {},
     "output_type": "execute_result"
    },
    {
     "data": {
      "image/png": "[encoded data removed]",
      "text/plain": [
       "<Figure size 720x720 with 2 Axes>"
      ]
     },
     "metadata": {
      "needs_background": "light"
     },
     "output_type": "display_data"
    }
   ],
   "source": [
    "#medal won distribution by gender and year\n",
    "fig, saxis = plt.subplots(2, 1,figsize=(10,10))\n",
    "\n",
    "sns.countplot(x = 'Gender', hue = 'Medal', data=df, ax = saxis[0]).set_title('Medals by Gender')\n",
    "sns.countplot(x = 'Year', hue = 'Medal', data=df, ax = saxis[1]).set_title('Medals by Year')\n"
   ]
  },
  {
   "cell_type": "code",
   "execution_count": 15,
   "metadata": {
    "ExecuteTime": {
     "end_time": "2021-02-19T13:15:54.819859Z",
     "start_time": "2021-02-19T13:15:54.032864Z"
    }
   },
   "outputs": [
    {
     "data": {
      "text/plain": [
       "Text(0.5, 1.0, 'Highest Occuring Sports')"
      ]
     },
     "execution_count": 15,
     "metadata": {},
     "output_type": "execute_result"
    },
    {
     "data": {
      "image/png": "[encoded data removed]",
      "text/plain": [
       "<Figure size 1152x1152 with 2 Axes>"
      ]
     },
     "metadata": {
      "needs_background": "light"
     },
     "output_type": "display_data"
    }
   ],
   "source": [
    "#highest participating teams and and their  medal distribution + what sports are held more often\n",
    "fig, saxis  = plt.subplots(2, 1, figsize=(16,16))\n",
    "\n",
    "sns.countplot(x = 'Team', hue= 'Medal', data=df, order=df.Team.value_counts().iloc[:6].index, ax = saxis[0]).set_title('Most Participating Teams')\n",
    "sns.countplot(x = 'Sport', data=df, order=df.Sport.value_counts().iloc[:6].index, ax = saxis[1]).set_title('Highest Occuring Sports')\n"
   ]
  },
  {
   "cell_type": "markdown",
   "metadata": {
    "ExecuteTime": {
     "end_time": "2021-02-19T11:25:16.899258Z",
     "start_time": "2021-02-19T11:25:16.891264Z"
    }
   },
   "source": [
    "For the sake of time and current project problem at hand, no more EDA is necessary, so I am going to proceed to the problem questions <br>\n",
    "1. Find the five athletes who won the most gold medals in Athletics\n"
   ]
  },
  {
   "cell_type": "code",
   "execution_count": 16,
   "metadata": {
    "ExecuteTime": {
     "end_time": "2021-02-19T13:15:54.852863Z",
     "start_time": "2021-02-19T13:15:54.823865Z"
    }
   },
   "outputs": [
    {
     "data": {
      "text/html": [
       "<div>\n",
       "<style scoped>\n",
       "    .dataframe tbody tr th:only-of-type {\n",
       "        vertical-align: middle;\n",
       "    }\n",
       "\n",
       "    .dataframe tbody tr th {\n",
       "        vertical-align: top;\n",
       "    }\n",
       "\n",
       "    .dataframe thead th {\n",
       "        text-align: right;\n",
       "    }\n",
       "</style>\n",
       "<table border=\"1\" class=\"dataframe\">\n",
       "  <thead>\n",
       "    <tr style=\"text-align: right;\">\n",
       "      <th></th>\n",
       "      <th>Gold</th>\n",
       "    </tr>\n",
       "    <tr>\n",
       "      <th>Athlete</th>\n",
       "      <th></th>\n",
       "    </tr>\n",
       "  </thead>\n",
       "  <tbody>\n",
       "    <tr>\n",
       "      <th>Paavo Nurmi</th>\n",
       "      <td>9</td>\n",
       "    </tr>\n",
       "    <tr>\n",
       "      <th>Ville Ritola</th>\n",
       "      <td>5</td>\n",
       "    </tr>\n",
       "    <tr>\n",
       "      <th>Jesse Owens</th>\n",
       "      <td>4</td>\n",
       "    </tr>\n",
       "    <tr>\n",
       "      <th>Alvin Kraenzlein</th>\n",
       "      <td>4</td>\n",
       "    </tr>\n",
       "    <tr>\n",
       "      <th>Emil Zatopek</th>\n",
       "      <td>4</td>\n",
       "    </tr>\n",
       "    <tr>\n",
       "      <th>Fanny Blankers-koen</th>\n",
       "      <td>4</td>\n",
       "    </tr>\n",
       "    <tr>\n",
       "      <th>Ray Ewry</th>\n",
       "      <td>4</td>\n",
       "    </tr>\n",
       "  </tbody>\n",
       "</table>\n",
       "</div>"
      ],
      "text/plain": [
       "                     Gold\n",
       "Athlete                  \n",
       "Paavo Nurmi             9\n",
       "Ville Ritola            5\n",
       "Jesse Owens             4\n",
       "Alvin Kraenzlein        4\n",
       "Emil Zatopek            4\n",
       "Fanny Blankers-koen     4\n",
       "Ray Ewry                4"
      ]
     },
     "execution_count": 16,
     "metadata": {},
     "output_type": "execute_result"
    }
   ],
   "source": [
    "df[df.Sport == 'Athletics'][df.Medal == 'Gold'].groupby(['Athlete']).agg({'Gold': sum}).sort_values(by=['Gold'], ascending =  False)[:7]\n",
    "\n",
    "#So, the the top 2 of the athletes is quite clear. The 3rd - 5th highest is tied at 4 Gold Medals,\n",
    "#with many other athletes sharing this position. Another condition needs to be added. "
   ]
  },
  {
   "cell_type": "markdown",
   "metadata": {},
   "source": [
    "2. Find the five athletes who won gold medals in the largest number of different athletic events <br>"
   ]
  },
  {
   "cell_type": "code",
   "execution_count": 17,
   "metadata": {
    "ExecuteTime": {
     "end_time": "2021-02-19T13:15:55.078862Z",
     "start_time": "2021-02-19T13:15:54.856864Z"
    }
   },
   "outputs": [
    {
     "data": {
      "text/html": [
       "<div>\n",
       "<style scoped>\n",
       "    .dataframe tbody tr th:only-of-type {\n",
       "        vertical-align: middle;\n",
       "    }\n",
       "\n",
       "    .dataframe tbody tr th {\n",
       "        vertical-align: top;\n",
       "    }\n",
       "\n",
       "    .dataframe thead th {\n",
       "        text-align: right;\n",
       "    }\n",
       "</style>\n",
       "<table border=\"1\" class=\"dataframe\">\n",
       "  <thead>\n",
       "    <tr style=\"text-align: right;\">\n",
       "      <th></th>\n",
       "      <th>Gold</th>\n",
       "      <th>Event</th>\n",
       "    </tr>\n",
       "    <tr>\n",
       "      <th>Athlete</th>\n",
       "      <th></th>\n",
       "      <th></th>\n",
       "    </tr>\n",
       "  </thead>\n",
       "  <tbody>\n",
       "    <tr>\n",
       "      <th>Paavo Nurmi</th>\n",
       "      <td>9</td>\n",
       "      <td>6</td>\n",
       "    </tr>\n",
       "    <tr>\n",
       "      <th>Ville Ritola</th>\n",
       "      <td>5</td>\n",
       "      <td>5</td>\n",
       "    </tr>\n",
       "    <tr>\n",
       "      <th>Alvin Kraenzlein</th>\n",
       "      <td>4</td>\n",
       "      <td>4</td>\n",
       "    </tr>\n",
       "    <tr>\n",
       "      <th>Hannes Kolehmainen</th>\n",
       "      <td>4</td>\n",
       "      <td>4</td>\n",
       "    </tr>\n",
       "    <tr>\n",
       "      <th>Fanny Blankers-koen</th>\n",
       "      <td>4</td>\n",
       "      <td>4</td>\n",
       "    </tr>\n",
       "    <tr>\n",
       "      <th>Betty Cuthbert</th>\n",
       "      <td>4</td>\n",
       "      <td>4</td>\n",
       "    </tr>\n",
       "  </tbody>\n",
       "</table>\n",
       "</div>"
      ],
      "text/plain": [
       "                     Gold  Event\n",
       "Athlete                         \n",
       "Paavo Nurmi             9      6\n",
       "Ville Ritola            5      5\n",
       "Alvin Kraenzlein        4      4\n",
       "Hannes Kolehmainen      4      4\n",
       "Fanny Blankers-koen     4      4\n",
       "Betty Cuthbert          4      4"
      ]
     },
     "execution_count": 17,
     "metadata": {},
     "output_type": "execute_result"
    }
   ],
   "source": [
    "df[df.Sport == 'Athletics'][df.Medal == 'Gold'].groupby(['Athlete']).agg({'Gold': sum, 'Event': pd.Series.nunique }).sort_values(by=['Event'], ascending =  [False])[:6]\n",
    "#similar situation here as in question 1."
   ]
  },
  {
   "cell_type": "markdown",
   "metadata": {},
   "source": [
    "3. If the olympics committee found guilty of doping the first and the third of the five athletes from question2, create a new medals.csv dataset with redistributed medals after the gold medals of those two athletes are removed. Who then are the top five that won gold medals in the largest number of different athletic events?"
   ]
  },
  {
   "cell_type": "markdown",
   "metadata": {},
   "source": [
    "__Note:__ Have to make quite a few assumptions here. First, there is no clear differentiation in who the top 3rd athlete is (and no further criteria is specified) so I am going to assume it to be Alvin Kraenzlein. Second, after reviewing official Olympic Guidelines, in case of disqualification, the medals are shifted to the athlete in the next position (Silver -> Gold). Third, disqualifications happen on case basis per Olympic games and not the complete career. So, I am going to disqualify these athletes from their most recent Olympic games. Lastly, as there are no 4th place athletes, bronze medal will not be allocated to an athlete. "
   ]
  },
  {
   "cell_type": "code",
   "execution_count": 18,
   "metadata": {
    "ExecuteTime": {
     "end_time": "2021-02-19T13:15:55.085865Z",
     "start_time": "2021-02-19T13:15:55.081864Z"
    }
   },
   "outputs": [],
   "source": [
    "disqualified = ['Paavo Nurmi', 'Alvin Kraenzlein']"
   ]
  },
  {
   "cell_type": "code",
   "execution_count": 19,
   "metadata": {
    "ExecuteTime": {
     "end_time": "2021-02-19T13:15:55.116862Z",
     "start_time": "2021-02-19T13:15:55.089863Z"
    }
   },
   "outputs": [
    {
     "data": {
      "text/html": [
       "<div>\n",
       "<style scoped>\n",
       "    .dataframe tbody tr th:only-of-type {\n",
       "        vertical-align: middle;\n",
       "    }\n",
       "\n",
       "    .dataframe tbody tr th {\n",
       "        vertical-align: top;\n",
       "    }\n",
       "\n",
       "    .dataframe thead th {\n",
       "        text-align: right;\n",
       "    }\n",
       "</style>\n",
       "<table border=\"1\" class=\"dataframe\">\n",
       "  <thead>\n",
       "    <tr style=\"text-align: right;\">\n",
       "      <th></th>\n",
       "      <th>Games</th>\n",
       "      <th>Year</th>\n",
       "      <th>Sport</th>\n",
       "      <th>Discipline</th>\n",
       "      <th>Athlete</th>\n",
       "      <th>Team</th>\n",
       "      <th>Gender</th>\n",
       "      <th>Event</th>\n",
       "      <th>Medal</th>\n",
       "      <th>Gold</th>\n",
       "      <th>Silver</th>\n",
       "      <th>Bronze</th>\n",
       "    </tr>\n",
       "  </thead>\n",
       "  <tbody>\n",
       "    <tr>\n",
       "      <th>5544</th>\n",
       "      <td>Amsterdam (1928)</td>\n",
       "      <td>1928</td>\n",
       "      <td>Athletics</td>\n",
       "      <td>Athletics</td>\n",
       "      <td>Paavo Nurmi</td>\n",
       "      <td>FIN</td>\n",
       "      <td>Men</td>\n",
       "      <td>5000m men</td>\n",
       "      <td>Silver</td>\n",
       "      <td>0</td>\n",
       "      <td>1</td>\n",
       "      <td>0</td>\n",
       "    </tr>\n",
       "    <tr>\n",
       "      <th>5628</th>\n",
       "      <td>Amsterdam (1928)</td>\n",
       "      <td>1928</td>\n",
       "      <td>Athletics</td>\n",
       "      <td>Athletics</td>\n",
       "      <td>Paavo Nurmi</td>\n",
       "      <td>FIN</td>\n",
       "      <td>Men</td>\n",
       "      <td>3000m steeplechase men</td>\n",
       "      <td>Silver</td>\n",
       "      <td>0</td>\n",
       "      <td>1</td>\n",
       "      <td>0</td>\n",
       "    </tr>\n",
       "    <tr>\n",
       "      <th>5687</th>\n",
       "      <td>Amsterdam (1928)</td>\n",
       "      <td>1928</td>\n",
       "      <td>Athletics</td>\n",
       "      <td>Athletics</td>\n",
       "      <td>Paavo Nurmi</td>\n",
       "      <td>FIN</td>\n",
       "      <td>Men</td>\n",
       "      <td>10000m men</td>\n",
       "      <td>Gold</td>\n",
       "      <td>1</td>\n",
       "      <td>0</td>\n",
       "      <td>0</td>\n",
       "    </tr>\n",
       "  </tbody>\n",
       "</table>\n",
       "</div>"
      ],
      "text/plain": [
       "                 Games  Year      Sport Discipline      Athlete Team Gender  \\\n",
       "5544  Amsterdam (1928)  1928  Athletics  Athletics  Paavo Nurmi  FIN    Men   \n",
       "5628  Amsterdam (1928)  1928  Athletics  Athletics  Paavo Nurmi  FIN    Men   \n",
       "5687  Amsterdam (1928)  1928  Athletics  Athletics  Paavo Nurmi  FIN    Men   \n",
       "\n",
       "                       Event   Medal  Gold  Silver  Bronze  \n",
       "5544               5000m men  Silver     0       1       0  \n",
       "5628  3000m steeplechase men  Silver     0       1       0  \n",
       "5687              10000m men    Gold     1       0       0  "
      ]
     },
     "execution_count": 19,
     "metadata": {},
     "output_type": "execute_result"
    }
   ],
   "source": [
    "#before we begin to redistribute the medals, let's see what is the latest year of participation\n",
    "#of these athletes, the events and medal standings. \n",
    "x = df.loc[(df.Athlete == 'Paavo Nurmi')]\n",
    "x.loc[(x.Year == x.Year.max())]"
   ]
  },
  {
   "cell_type": "code",
   "execution_count": 20,
   "metadata": {
    "ExecuteTime": {
     "end_time": "2021-02-19T13:15:55.147862Z",
     "start_time": "2021-02-19T13:15:55.119865Z"
    }
   },
   "outputs": [
    {
     "data": {
      "text/html": [
       "<div>\n",
       "<style scoped>\n",
       "    .dataframe tbody tr th:only-of-type {\n",
       "        vertical-align: middle;\n",
       "    }\n",
       "\n",
       "    .dataframe tbody tr th {\n",
       "        vertical-align: top;\n",
       "    }\n",
       "\n",
       "    .dataframe thead th {\n",
       "        text-align: right;\n",
       "    }\n",
       "</style>\n",
       "<table border=\"1\" class=\"dataframe\">\n",
       "  <thead>\n",
       "    <tr style=\"text-align: right;\">\n",
       "      <th></th>\n",
       "      <th>Games</th>\n",
       "      <th>Year</th>\n",
       "      <th>Sport</th>\n",
       "      <th>Discipline</th>\n",
       "      <th>Athlete</th>\n",
       "      <th>Team</th>\n",
       "      <th>Gender</th>\n",
       "      <th>Event</th>\n",
       "      <th>Medal</th>\n",
       "      <th>Gold</th>\n",
       "      <th>Silver</th>\n",
       "      <th>Bronze</th>\n",
       "    </tr>\n",
       "  </thead>\n",
       "  <tbody>\n",
       "    <tr>\n",
       "      <th>332</th>\n",
       "      <td>Paris (1900)</td>\n",
       "      <td>1900</td>\n",
       "      <td>Athletics</td>\n",
       "      <td>Athletics</td>\n",
       "      <td>Alvin Kraenzlein</td>\n",
       "      <td>USA</td>\n",
       "      <td>Men</td>\n",
       "      <td>long jump men</td>\n",
       "      <td>Gold</td>\n",
       "      <td>1</td>\n",
       "      <td>0</td>\n",
       "      <td>0</td>\n",
       "    </tr>\n",
       "    <tr>\n",
       "      <th>552</th>\n",
       "      <td>Paris (1900)</td>\n",
       "      <td>1900</td>\n",
       "      <td>Athletics</td>\n",
       "      <td>Athletics</td>\n",
       "      <td>Alvin Kraenzlein</td>\n",
       "      <td>USA</td>\n",
       "      <td>Men</td>\n",
       "      <td>60m men</td>\n",
       "      <td>Gold</td>\n",
       "      <td>1</td>\n",
       "      <td>0</td>\n",
       "      <td>0</td>\n",
       "    </tr>\n",
       "    <tr>\n",
       "      <th>628</th>\n",
       "      <td>Paris (1900)</td>\n",
       "      <td>1900</td>\n",
       "      <td>Athletics</td>\n",
       "      <td>Athletics</td>\n",
       "      <td>Alvin Kraenzlein</td>\n",
       "      <td>USA</td>\n",
       "      <td>Men</td>\n",
       "      <td>200m hurdles men</td>\n",
       "      <td>Gold</td>\n",
       "      <td>1</td>\n",
       "      <td>0</td>\n",
       "      <td>0</td>\n",
       "    </tr>\n",
       "    <tr>\n",
       "      <th>643</th>\n",
       "      <td>Paris (1900)</td>\n",
       "      <td>1900</td>\n",
       "      <td>Athletics</td>\n",
       "      <td>Athletics</td>\n",
       "      <td>Alvin Kraenzlein</td>\n",
       "      <td>USA</td>\n",
       "      <td>Men</td>\n",
       "      <td>110m hurdles men</td>\n",
       "      <td>Gold</td>\n",
       "      <td>1</td>\n",
       "      <td>0</td>\n",
       "      <td>0</td>\n",
       "    </tr>\n",
       "  </tbody>\n",
       "</table>\n",
       "</div>"
      ],
      "text/plain": [
       "            Games  Year      Sport Discipline           Athlete Team Gender  \\\n",
       "332  Paris (1900)  1900  Athletics  Athletics  Alvin Kraenzlein  USA    Men   \n",
       "552  Paris (1900)  1900  Athletics  Athletics  Alvin Kraenzlein  USA    Men   \n",
       "628  Paris (1900)  1900  Athletics  Athletics  Alvin Kraenzlein  USA    Men   \n",
       "643  Paris (1900)  1900  Athletics  Athletics  Alvin Kraenzlein  USA    Men   \n",
       "\n",
       "                Event Medal  Gold  Silver  Bronze  \n",
       "332     long jump men  Gold     1       0       0  \n",
       "552           60m men  Gold     1       0       0  \n",
       "628  200m hurdles men  Gold     1       0       0  \n",
       "643  110m hurdles men  Gold     1       0       0  "
      ]
     },
     "execution_count": 20,
     "metadata": {},
     "output_type": "execute_result"
    }
   ],
   "source": [
    "x = df.loc[(df.Athlete == 'Alvin Kraenzlein')]\n",
    "x.loc[(x.Year == x.Year.max())]"
   ]
  },
  {
   "cell_type": "code",
   "execution_count": 21,
   "metadata": {
    "ExecuteTime": {
     "end_time": "2021-02-19T13:15:55.268859Z",
     "start_time": "2021-02-19T13:15:55.150864Z"
    }
   },
   "outputs": [],
   "source": [
    "#the approach is going to be that we are going to shift the rows to corespond with the new\n",
    "#redistribition. For this, the dataset has to be sorted by year, event and gold, silver, bronze\n",
    "#standings. \n",
    "\n",
    "df_new = df.copy()\n",
    "for x in disqualified:\n",
    "    d1 = df.loc[(df.Athlete == x)]\n",
    "    d2 = d1.loc[(d1.Year == d1.Year.max())].reset_index(drop=True)\n",
    "    for i in range(len(d2)):\n",
    "        if d2.Medal[i] == 'Gold':\n",
    "            test = df.loc[(df.Event == d2.Event[i]) & (df.Year == d2.Year[i])]\n",
    "            df_new.loc[test.index, [\"Medal\", \"Gold\", \"Silver\", \"Bronze\"]] = df_new.loc[test.index, [\"Medal\", \"Gold\", \"Silver\", \"Bronze\"]].shift(1)\n",
    "        elif d2.Medal[i] == 'Silver':\n",
    "            test = df.loc[(df.Event == d2.Event[i]) & (df.Year == d2.Year[i])]\n",
    "            df_new.loc[test.index[1:], [\"Medal\", \"Gold\", \"Silver\", \"Bronze\"]] = df_new.loc[test.index[1:], [\"Medal\", \"Gold\", \"Silver\", \"Bronze\"]].shift(1)\n",
    "        elif d2.Medal[i] == 'Silver':\n",
    "            test = df.loc[(df.Event == d2.Event[i]) & (df.Year == d2.Year[i])]\n",
    "            df_new.loc[test.index[2:], [\"Medal\", \"Gold\", \"Silver\", \"Bronze\"]] = df_new.loc[test.index[2:], [\"Medal\", \"Gold\", \"Silver\", \"Bronze\"]].shift(1)\n"
   ]
  },
  {
   "cell_type": "code",
   "execution_count": 22,
   "metadata": {
    "ExecuteTime": {
     "end_time": "2021-02-19T13:15:55.303861Z",
     "start_time": "2021-02-19T13:15:55.272866Z"
    }
   },
   "outputs": [
    {
     "data": {
      "text/html": [
       "<div>\n",
       "<style scoped>\n",
       "    .dataframe tbody tr th:only-of-type {\n",
       "        vertical-align: middle;\n",
       "    }\n",
       "\n",
       "    .dataframe tbody tr th {\n",
       "        vertical-align: top;\n",
       "    }\n",
       "\n",
       "    .dataframe thead th {\n",
       "        text-align: right;\n",
       "    }\n",
       "</style>\n",
       "<table border=\"1\" class=\"dataframe\">\n",
       "  <thead>\n",
       "    <tr style=\"text-align: right;\">\n",
       "      <th></th>\n",
       "      <th>Games</th>\n",
       "      <th>Year</th>\n",
       "      <th>Sport</th>\n",
       "      <th>Discipline</th>\n",
       "      <th>Athlete</th>\n",
       "      <th>Team</th>\n",
       "      <th>Gender</th>\n",
       "      <th>Event</th>\n",
       "      <th>Medal</th>\n",
       "      <th>Gold</th>\n",
       "      <th>Silver</th>\n",
       "      <th>Bronze</th>\n",
       "    </tr>\n",
       "  </thead>\n",
       "  <tbody>\n",
       "    <tr>\n",
       "      <th>332</th>\n",
       "      <td>Paris (1900)</td>\n",
       "      <td>1900</td>\n",
       "      <td>Athletics</td>\n",
       "      <td>Athletics</td>\n",
       "      <td>Alvin Kraenzlein</td>\n",
       "      <td>USA</td>\n",
       "      <td>Men</td>\n",
       "      <td>long jump men</td>\n",
       "      <td>NaN</td>\n",
       "      <td>NaN</td>\n",
       "      <td>NaN</td>\n",
       "      <td>NaN</td>\n",
       "    </tr>\n",
       "    <tr>\n",
       "      <th>552</th>\n",
       "      <td>Paris (1900)</td>\n",
       "      <td>1900</td>\n",
       "      <td>Athletics</td>\n",
       "      <td>Athletics</td>\n",
       "      <td>Alvin Kraenzlein</td>\n",
       "      <td>USA</td>\n",
       "      <td>Men</td>\n",
       "      <td>60m men</td>\n",
       "      <td>NaN</td>\n",
       "      <td>NaN</td>\n",
       "      <td>NaN</td>\n",
       "      <td>NaN</td>\n",
       "    </tr>\n",
       "    <tr>\n",
       "      <th>628</th>\n",
       "      <td>Paris (1900)</td>\n",
       "      <td>1900</td>\n",
       "      <td>Athletics</td>\n",
       "      <td>Athletics</td>\n",
       "      <td>Alvin Kraenzlein</td>\n",
       "      <td>USA</td>\n",
       "      <td>Men</td>\n",
       "      <td>200m hurdles men</td>\n",
       "      <td>NaN</td>\n",
       "      <td>NaN</td>\n",
       "      <td>NaN</td>\n",
       "      <td>NaN</td>\n",
       "    </tr>\n",
       "    <tr>\n",
       "      <th>643</th>\n",
       "      <td>Paris (1900)</td>\n",
       "      <td>1900</td>\n",
       "      <td>Athletics</td>\n",
       "      <td>Athletics</td>\n",
       "      <td>Alvin Kraenzlein</td>\n",
       "      <td>USA</td>\n",
       "      <td>Men</td>\n",
       "      <td>110m hurdles men</td>\n",
       "      <td>NaN</td>\n",
       "      <td>NaN</td>\n",
       "      <td>NaN</td>\n",
       "      <td>NaN</td>\n",
       "    </tr>\n",
       "    <tr>\n",
       "      <th>5544</th>\n",
       "      <td>Amsterdam (1928)</td>\n",
       "      <td>1928</td>\n",
       "      <td>Athletics</td>\n",
       "      <td>Athletics</td>\n",
       "      <td>Paavo Nurmi</td>\n",
       "      <td>FIN</td>\n",
       "      <td>Men</td>\n",
       "      <td>5000m men</td>\n",
       "      <td>NaN</td>\n",
       "      <td>NaN</td>\n",
       "      <td>NaN</td>\n",
       "      <td>NaN</td>\n",
       "    </tr>\n",
       "    <tr>\n",
       "      <th>5628</th>\n",
       "      <td>Amsterdam (1928)</td>\n",
       "      <td>1928</td>\n",
       "      <td>Athletics</td>\n",
       "      <td>Athletics</td>\n",
       "      <td>Paavo Nurmi</td>\n",
       "      <td>FIN</td>\n",
       "      <td>Men</td>\n",
       "      <td>3000m steeplechase men</td>\n",
       "      <td>NaN</td>\n",
       "      <td>NaN</td>\n",
       "      <td>NaN</td>\n",
       "      <td>NaN</td>\n",
       "    </tr>\n",
       "    <tr>\n",
       "      <th>5687</th>\n",
       "      <td>Amsterdam (1928)</td>\n",
       "      <td>1928</td>\n",
       "      <td>Athletics</td>\n",
       "      <td>Athletics</td>\n",
       "      <td>Paavo Nurmi</td>\n",
       "      <td>FIN</td>\n",
       "      <td>Men</td>\n",
       "      <td>10000m men</td>\n",
       "      <td>NaN</td>\n",
       "      <td>NaN</td>\n",
       "      <td>NaN</td>\n",
       "      <td>NaN</td>\n",
       "    </tr>\n",
       "  </tbody>\n",
       "</table>\n",
       "</div>"
      ],
      "text/plain": [
       "                 Games  Year      Sport Discipline           Athlete Team  \\\n",
       "332       Paris (1900)  1900  Athletics  Athletics  Alvin Kraenzlein  USA   \n",
       "552       Paris (1900)  1900  Athletics  Athletics  Alvin Kraenzlein  USA   \n",
       "628       Paris (1900)  1900  Athletics  Athletics  Alvin Kraenzlein  USA   \n",
       "643       Paris (1900)  1900  Athletics  Athletics  Alvin Kraenzlein  USA   \n",
       "5544  Amsterdam (1928)  1928  Athletics  Athletics       Paavo Nurmi  FIN   \n",
       "5628  Amsterdam (1928)  1928  Athletics  Athletics       Paavo Nurmi  FIN   \n",
       "5687  Amsterdam (1928)  1928  Athletics  Athletics       Paavo Nurmi  FIN   \n",
       "\n",
       "     Gender                   Event Medal  Gold  Silver  Bronze  \n",
       "332     Men           long jump men   NaN   NaN     NaN     NaN  \n",
       "552     Men                 60m men   NaN   NaN     NaN     NaN  \n",
       "628     Men        200m hurdles men   NaN   NaN     NaN     NaN  \n",
       "643     Men        110m hurdles men   NaN   NaN     NaN     NaN  \n",
       "5544    Men               5000m men   NaN   NaN     NaN     NaN  \n",
       "5628    Men  3000m steeplechase men   NaN   NaN     NaN     NaN  \n",
       "5687    Men              10000m men   NaN   NaN     NaN     NaN  "
      ]
     },
     "execution_count": 22,
     "metadata": {},
     "output_type": "execute_result"
    }
   ],
   "source": [
    "#checking that these athletes are now disqualified and their rows have null values\n",
    "df_new[df_new.isna().any(axis=1)]\n",
    "\n",
    "#perfect. Looks good!"
   ]
  },
  {
   "cell_type": "code",
   "execution_count": 23,
   "metadata": {
    "ExecuteTime": {
     "end_time": "2021-02-19T13:15:55.336862Z",
     "start_time": "2021-02-19T13:15:55.309865Z"
    }
   },
   "outputs": [
    {
     "data": {
      "text/html": [
       "<div>\n",
       "<style scoped>\n",
       "    .dataframe tbody tr th:only-of-type {\n",
       "        vertical-align: middle;\n",
       "    }\n",
       "\n",
       "    .dataframe tbody tr th {\n",
       "        vertical-align: top;\n",
       "    }\n",
       "\n",
       "    .dataframe thead th {\n",
       "        text-align: right;\n",
       "    }\n",
       "</style>\n",
       "<table border=\"1\" class=\"dataframe\">\n",
       "  <thead>\n",
       "    <tr style=\"text-align: right;\">\n",
       "      <th></th>\n",
       "      <th>Games</th>\n",
       "      <th>Year</th>\n",
       "      <th>Sport</th>\n",
       "      <th>Discipline</th>\n",
       "      <th>Athlete</th>\n",
       "      <th>Team</th>\n",
       "      <th>Gender</th>\n",
       "      <th>Event</th>\n",
       "      <th>Medal</th>\n",
       "      <th>Gold</th>\n",
       "      <th>Silver</th>\n",
       "      <th>Bronze</th>\n",
       "    </tr>\n",
       "  </thead>\n",
       "  <tbody>\n",
       "    <tr>\n",
       "      <th>643</th>\n",
       "      <td>Paris (1900)</td>\n",
       "      <td>1900</td>\n",
       "      <td>Athletics</td>\n",
       "      <td>Athletics</td>\n",
       "      <td>Alvin Kraenzlein</td>\n",
       "      <td>USA</td>\n",
       "      <td>Men</td>\n",
       "      <td>110m hurdles men</td>\n",
       "      <td>Gold</td>\n",
       "      <td>1</td>\n",
       "      <td>0</td>\n",
       "      <td>0</td>\n",
       "    </tr>\n",
       "    <tr>\n",
       "      <th>644</th>\n",
       "      <td>Paris (1900)</td>\n",
       "      <td>1900</td>\n",
       "      <td>Athletics</td>\n",
       "      <td>Athletics</td>\n",
       "      <td>John Mclean</td>\n",
       "      <td>USA</td>\n",
       "      <td>Men</td>\n",
       "      <td>110m hurdles men</td>\n",
       "      <td>Silver</td>\n",
       "      <td>0</td>\n",
       "      <td>1</td>\n",
       "      <td>0</td>\n",
       "    </tr>\n",
       "    <tr>\n",
       "      <th>645</th>\n",
       "      <td>Paris (1900)</td>\n",
       "      <td>1900</td>\n",
       "      <td>Athletics</td>\n",
       "      <td>Athletics</td>\n",
       "      <td>Frederick Moloney</td>\n",
       "      <td>USA</td>\n",
       "      <td>Men</td>\n",
       "      <td>110m hurdles men</td>\n",
       "      <td>Bronze</td>\n",
       "      <td>0</td>\n",
       "      <td>0</td>\n",
       "      <td>1</td>\n",
       "    </tr>\n",
       "  </tbody>\n",
       "</table>\n",
       "</div>"
      ],
      "text/plain": [
       "            Games  Year      Sport Discipline            Athlete Team Gender  \\\n",
       "643  Paris (1900)  1900  Athletics  Athletics   Alvin Kraenzlein  USA    Men   \n",
       "644  Paris (1900)  1900  Athletics  Athletics        John Mclean  USA    Men   \n",
       "645  Paris (1900)  1900  Athletics  Athletics  Frederick Moloney  USA    Men   \n",
       "\n",
       "                Event   Medal  Gold  Silver  Bronze  \n",
       "643  110m hurdles men    Gold     1       0       0  \n",
       "644  110m hurdles men  Silver     0       1       0  \n",
       "645  110m hurdles men  Bronze     0       0       1  "
      ]
     },
     "execution_count": 23,
     "metadata": {},
     "output_type": "execute_result"
    }
   ],
   "source": [
    "#Double checking that the changes between the old and the new dataframe\n",
    "\n",
    "df[df.Year == 1900][df.Event == '110m hurdles men']"
   ]
  },
  {
   "cell_type": "code",
   "execution_count": 24,
   "metadata": {
    "ExecuteTime": {
     "end_time": "2021-02-19T13:15:55.369862Z",
     "start_time": "2021-02-19T13:15:55.340864Z"
    }
   },
   "outputs": [
    {
     "data": {
      "text/html": [
       "<div>\n",
       "<style scoped>\n",
       "    .dataframe tbody tr th:only-of-type {\n",
       "        vertical-align: middle;\n",
       "    }\n",
       "\n",
       "    .dataframe tbody tr th {\n",
       "        vertical-align: top;\n",
       "    }\n",
       "\n",
       "    .dataframe thead th {\n",
       "        text-align: right;\n",
       "    }\n",
       "</style>\n",
       "<table border=\"1\" class=\"dataframe\">\n",
       "  <thead>\n",
       "    <tr style=\"text-align: right;\">\n",
       "      <th></th>\n",
       "      <th>Games</th>\n",
       "      <th>Year</th>\n",
       "      <th>Sport</th>\n",
       "      <th>Discipline</th>\n",
       "      <th>Athlete</th>\n",
       "      <th>Team</th>\n",
       "      <th>Gender</th>\n",
       "      <th>Event</th>\n",
       "      <th>Medal</th>\n",
       "      <th>Gold</th>\n",
       "      <th>Silver</th>\n",
       "      <th>Bronze</th>\n",
       "    </tr>\n",
       "  </thead>\n",
       "  <tbody>\n",
       "    <tr>\n",
       "      <th>643</th>\n",
       "      <td>Paris (1900)</td>\n",
       "      <td>1900</td>\n",
       "      <td>Athletics</td>\n",
       "      <td>Athletics</td>\n",
       "      <td>Alvin Kraenzlein</td>\n",
       "      <td>USA</td>\n",
       "      <td>Men</td>\n",
       "      <td>110m hurdles men</td>\n",
       "      <td>NaN</td>\n",
       "      <td>NaN</td>\n",
       "      <td>NaN</td>\n",
       "      <td>NaN</td>\n",
       "    </tr>\n",
       "    <tr>\n",
       "      <th>644</th>\n",
       "      <td>Paris (1900)</td>\n",
       "      <td>1900</td>\n",
       "      <td>Athletics</td>\n",
       "      <td>Athletics</td>\n",
       "      <td>John Mclean</td>\n",
       "      <td>USA</td>\n",
       "      <td>Men</td>\n",
       "      <td>110m hurdles men</td>\n",
       "      <td>Gold</td>\n",
       "      <td>1.0</td>\n",
       "      <td>0.0</td>\n",
       "      <td>0.0</td>\n",
       "    </tr>\n",
       "    <tr>\n",
       "      <th>645</th>\n",
       "      <td>Paris (1900)</td>\n",
       "      <td>1900</td>\n",
       "      <td>Athletics</td>\n",
       "      <td>Athletics</td>\n",
       "      <td>Frederick Moloney</td>\n",
       "      <td>USA</td>\n",
       "      <td>Men</td>\n",
       "      <td>110m hurdles men</td>\n",
       "      <td>Silver</td>\n",
       "      <td>0.0</td>\n",
       "      <td>1.0</td>\n",
       "      <td>0.0</td>\n",
       "    </tr>\n",
       "  </tbody>\n",
       "</table>\n",
       "</div>"
      ],
      "text/plain": [
       "            Games  Year      Sport Discipline            Athlete Team Gender  \\\n",
       "643  Paris (1900)  1900  Athletics  Athletics   Alvin Kraenzlein  USA    Men   \n",
       "644  Paris (1900)  1900  Athletics  Athletics        John Mclean  USA    Men   \n",
       "645  Paris (1900)  1900  Athletics  Athletics  Frederick Moloney  USA    Men   \n",
       "\n",
       "                Event   Medal  Gold  Silver  Bronze  \n",
       "643  110m hurdles men     NaN   NaN     NaN     NaN  \n",
       "644  110m hurdles men    Gold   1.0     0.0     0.0  \n",
       "645  110m hurdles men  Silver   0.0     1.0     0.0  "
      ]
     },
     "execution_count": 24,
     "metadata": {},
     "output_type": "execute_result"
    }
   ],
   "source": [
    "df_new[df_new.Year == 1900][df_new.Event == '110m hurdles men']\n",
    "#perfect. Validated!"
   ]
  },
  {
   "cell_type": "code",
   "execution_count": 25,
   "metadata": {
    "ExecuteTime": {
     "end_time": "2021-02-19T13:15:55.409865Z",
     "start_time": "2021-02-19T13:15:55.374862Z"
    }
   },
   "outputs": [
    {
     "data": {
      "text/html": [
       "<div>\n",
       "<style scoped>\n",
       "    .dataframe tbody tr th:only-of-type {\n",
       "        vertical-align: middle;\n",
       "    }\n",
       "\n",
       "    .dataframe tbody tr th {\n",
       "        vertical-align: top;\n",
       "    }\n",
       "\n",
       "    .dataframe thead th {\n",
       "        text-align: right;\n",
       "    }\n",
       "</style>\n",
       "<table border=\"1\" class=\"dataframe\">\n",
       "  <thead>\n",
       "    <tr style=\"text-align: right;\">\n",
       "      <th></th>\n",
       "      <th>Games</th>\n",
       "      <th>Year</th>\n",
       "      <th>Sport</th>\n",
       "      <th>Discipline</th>\n",
       "      <th>Athlete</th>\n",
       "      <th>Team</th>\n",
       "      <th>Gender</th>\n",
       "      <th>Event</th>\n",
       "      <th>Medal</th>\n",
       "      <th>Gold</th>\n",
       "      <th>Silver</th>\n",
       "      <th>Bronze</th>\n",
       "    </tr>\n",
       "  </thead>\n",
       "  <tbody>\n",
       "    <tr>\n",
       "      <th>5543</th>\n",
       "      <td>Amsterdam (1928)</td>\n",
       "      <td>1928</td>\n",
       "      <td>Athletics</td>\n",
       "      <td>Athletics</td>\n",
       "      <td>Ville Ritola</td>\n",
       "      <td>FIN</td>\n",
       "      <td>Men</td>\n",
       "      <td>5000m men</td>\n",
       "      <td>Gold</td>\n",
       "      <td>1</td>\n",
       "      <td>0</td>\n",
       "      <td>0</td>\n",
       "    </tr>\n",
       "    <tr>\n",
       "      <th>5544</th>\n",
       "      <td>Amsterdam (1928)</td>\n",
       "      <td>1928</td>\n",
       "      <td>Athletics</td>\n",
       "      <td>Athletics</td>\n",
       "      <td>Paavo Nurmi</td>\n",
       "      <td>FIN</td>\n",
       "      <td>Men</td>\n",
       "      <td>5000m men</td>\n",
       "      <td>Silver</td>\n",
       "      <td>0</td>\n",
       "      <td>1</td>\n",
       "      <td>0</td>\n",
       "    </tr>\n",
       "    <tr>\n",
       "      <th>5545</th>\n",
       "      <td>Amsterdam (1928)</td>\n",
       "      <td>1928</td>\n",
       "      <td>Athletics</td>\n",
       "      <td>Athletics</td>\n",
       "      <td>Edvin Wide</td>\n",
       "      <td>SWE</td>\n",
       "      <td>Men</td>\n",
       "      <td>5000m men</td>\n",
       "      <td>Bronze</td>\n",
       "      <td>0</td>\n",
       "      <td>0</td>\n",
       "      <td>1</td>\n",
       "    </tr>\n",
       "  </tbody>\n",
       "</table>\n",
       "</div>"
      ],
      "text/plain": [
       "                 Games  Year      Sport Discipline       Athlete Team Gender  \\\n",
       "5543  Amsterdam (1928)  1928  Athletics  Athletics  Ville Ritola  FIN    Men   \n",
       "5544  Amsterdam (1928)  1928  Athletics  Athletics   Paavo Nurmi  FIN    Men   \n",
       "5545  Amsterdam (1928)  1928  Athletics  Athletics    Edvin Wide  SWE    Men   \n",
       "\n",
       "          Event   Medal  Gold  Silver  Bronze  \n",
       "5543  5000m men    Gold     1       0       0  \n",
       "5544  5000m men  Silver     0       1       0  \n",
       "5545  5000m men  Bronze     0       0       1  "
      ]
     },
     "execution_count": 25,
     "metadata": {},
     "output_type": "execute_result"
    }
   ],
   "source": [
    "df[df.Year == 1928][df.Event == '5000m men']\n",
    "#Now same validation between old and new dataset when the medal is silver. "
   ]
  },
  {
   "cell_type": "code",
   "execution_count": 26,
   "metadata": {
    "ExecuteTime": {
     "end_time": "2021-02-19T13:15:55.446865Z",
     "start_time": "2021-02-19T13:15:55.414864Z"
    }
   },
   "outputs": [
    {
     "data": {
      "text/html": [
       "<div>\n",
       "<style scoped>\n",
       "    .dataframe tbody tr th:only-of-type {\n",
       "        vertical-align: middle;\n",
       "    }\n",
       "\n",
       "    .dataframe tbody tr th {\n",
       "        vertical-align: top;\n",
       "    }\n",
       "\n",
       "    .dataframe thead th {\n",
       "        text-align: right;\n",
       "    }\n",
       "</style>\n",
       "<table border=\"1\" class=\"dataframe\">\n",
       "  <thead>\n",
       "    <tr style=\"text-align: right;\">\n",
       "      <th></th>\n",
       "      <th>Games</th>\n",
       "      <th>Year</th>\n",
       "      <th>Sport</th>\n",
       "      <th>Discipline</th>\n",
       "      <th>Athlete</th>\n",
       "      <th>Team</th>\n",
       "      <th>Gender</th>\n",
       "      <th>Event</th>\n",
       "      <th>Medal</th>\n",
       "      <th>Gold</th>\n",
       "      <th>Silver</th>\n",
       "      <th>Bronze</th>\n",
       "    </tr>\n",
       "  </thead>\n",
       "  <tbody>\n",
       "    <tr>\n",
       "      <th>5543</th>\n",
       "      <td>Amsterdam (1928)</td>\n",
       "      <td>1928</td>\n",
       "      <td>Athletics</td>\n",
       "      <td>Athletics</td>\n",
       "      <td>Ville Ritola</td>\n",
       "      <td>FIN</td>\n",
       "      <td>Men</td>\n",
       "      <td>5000m men</td>\n",
       "      <td>Gold</td>\n",
       "      <td>1.0</td>\n",
       "      <td>0.0</td>\n",
       "      <td>0.0</td>\n",
       "    </tr>\n",
       "    <tr>\n",
       "      <th>5544</th>\n",
       "      <td>Amsterdam (1928)</td>\n",
       "      <td>1928</td>\n",
       "      <td>Athletics</td>\n",
       "      <td>Athletics</td>\n",
       "      <td>Paavo Nurmi</td>\n",
       "      <td>FIN</td>\n",
       "      <td>Men</td>\n",
       "      <td>5000m men</td>\n",
       "      <td>NaN</td>\n",
       "      <td>NaN</td>\n",
       "      <td>NaN</td>\n",
       "      <td>NaN</td>\n",
       "    </tr>\n",
       "    <tr>\n",
       "      <th>5545</th>\n",
       "      <td>Amsterdam (1928)</td>\n",
       "      <td>1928</td>\n",
       "      <td>Athletics</td>\n",
       "      <td>Athletics</td>\n",
       "      <td>Edvin Wide</td>\n",
       "      <td>SWE</td>\n",
       "      <td>Men</td>\n",
       "      <td>5000m men</td>\n",
       "      <td>Silver</td>\n",
       "      <td>0.0</td>\n",
       "      <td>1.0</td>\n",
       "      <td>0.0</td>\n",
       "    </tr>\n",
       "  </tbody>\n",
       "</table>\n",
       "</div>"
      ],
      "text/plain": [
       "                 Games  Year      Sport Discipline       Athlete Team Gender  \\\n",
       "5543  Amsterdam (1928)  1928  Athletics  Athletics  Ville Ritola  FIN    Men   \n",
       "5544  Amsterdam (1928)  1928  Athletics  Athletics   Paavo Nurmi  FIN    Men   \n",
       "5545  Amsterdam (1928)  1928  Athletics  Athletics    Edvin Wide  SWE    Men   \n",
       "\n",
       "          Event   Medal  Gold  Silver  Bronze  \n",
       "5543  5000m men    Gold   1.0     0.0     0.0  \n",
       "5544  5000m men     NaN   NaN     NaN     NaN  \n",
       "5545  5000m men  Silver   0.0     1.0     0.0  "
      ]
     },
     "execution_count": 26,
     "metadata": {},
     "output_type": "execute_result"
    }
   ],
   "source": [
    "df_new[df_new.Year == 1928][df_new.Event == '5000m men']\n",
    "#perfect, validated!"
   ]
  },
  {
   "cell_type": "code",
   "execution_count": 27,
   "metadata": {
    "ExecuteTime": {
     "end_time": "2021-02-19T13:15:55.474860Z",
     "start_time": "2021-02-19T13:15:55.449862Z"
    }
   },
   "outputs": [],
   "source": [
    "#Dropping the rows with nans so that it doesn't impact aggregate functions. \n",
    "df_new.dropna(inplace=True)"
   ]
  },
  {
   "cell_type": "code",
   "execution_count": 28,
   "metadata": {
    "ExecuteTime": {
     "end_time": "2021-02-19T13:15:55.618864Z",
     "start_time": "2021-02-19T13:15:55.478864Z"
    }
   },
   "outputs": [
    {
     "data": {
      "text/html": [
       "<div>\n",
       "<style scoped>\n",
       "    .dataframe tbody tr th:only-of-type {\n",
       "        vertical-align: middle;\n",
       "    }\n",
       "\n",
       "    .dataframe tbody tr th {\n",
       "        vertical-align: top;\n",
       "    }\n",
       "\n",
       "    .dataframe thead th {\n",
       "        text-align: right;\n",
       "    }\n",
       "</style>\n",
       "<table border=\"1\" class=\"dataframe\">\n",
       "  <thead>\n",
       "    <tr style=\"text-align: right;\">\n",
       "      <th></th>\n",
       "      <th>Gold</th>\n",
       "      <th>Event</th>\n",
       "    </tr>\n",
       "    <tr>\n",
       "      <th>Athlete</th>\n",
       "      <th></th>\n",
       "      <th></th>\n",
       "    </tr>\n",
       "  </thead>\n",
       "  <tbody>\n",
       "    <tr>\n",
       "      <th>Paavo Nurmi</th>\n",
       "      <td>8.0</td>\n",
       "      <td>6</td>\n",
       "    </tr>\n",
       "    <tr>\n",
       "      <th>Ville Ritola</th>\n",
       "      <td>6.0</td>\n",
       "      <td>5</td>\n",
       "    </tr>\n",
       "    <tr>\n",
       "      <th>Fanny Blankers-koen</th>\n",
       "      <td>4.0</td>\n",
       "      <td>4</td>\n",
       "    </tr>\n",
       "    <tr>\n",
       "      <th>Jesse Owens</th>\n",
       "      <td>4.0</td>\n",
       "      <td>4</td>\n",
       "    </tr>\n",
       "    <tr>\n",
       "      <th>Betty Cuthbert</th>\n",
       "      <td>4.0</td>\n",
       "      <td>4</td>\n",
       "    </tr>\n",
       "    <tr>\n",
       "      <th>Hannes Kolehmainen</th>\n",
       "      <td>4.0</td>\n",
       "      <td>4</td>\n",
       "    </tr>\n",
       "  </tbody>\n",
       "</table>\n",
       "</div>"
      ],
      "text/plain": [
       "                     Gold  Event\n",
       "Athlete                         \n",
       "Paavo Nurmi           8.0      6\n",
       "Ville Ritola          6.0      5\n",
       "Fanny Blankers-koen   4.0      4\n",
       "Jesse Owens           4.0      4\n",
       "Betty Cuthbert        4.0      4\n",
       "Hannes Kolehmainen    4.0      4"
      ]
     },
     "execution_count": 28,
     "metadata": {},
     "output_type": "execute_result"
    }
   ],
   "source": [
    "df_new[df_new.Sport == 'Athletics'][df_new.Medal == 'Gold'].groupby(['Athlete']).agg({'Gold': sum, 'Event': pd.Series.nunique }).sort_values(by=['Event'], ascending =  [False])[:6]\n",
    "#similar situation here as in question 2. Even with disqualification, we have athletes\n",
    "#that have similar performance and thus, hard to get the top 5. Extra criteria is needed"
   ]
  },
  {
   "cell_type": "code",
   "execution_count": 29,
   "metadata": {
    "ExecuteTime": {
     "end_time": "2021-02-19T13:15:55.749867Z",
     "start_time": "2021-02-19T13:15:55.622864Z"
    }
   },
   "outputs": [],
   "source": [
    "#saving the latest dataframe for future use\n",
    "df_new.to_csv(\"Medals_Redistributed.csv\")"
   ]
  }
 ],
 "metadata": {
  "kernelspec": {
   "display_name": "Python 3",
   "language": "python",
   "name": "python3"
  },
  "language_info": {
   "codemirror_mode": {
    "name": "ipython",
    "version": 3
   },
   "file_extension": ".py",
   "mimetype": "text/x-python",
   "name": "python",
   "nbconvert_exporter": "python",
   "pygments_lexer": "ipython3",
   "version": "3.7.3"
  }
 },
 "nbformat": 4,
 "nbformat_minor": 2
}
